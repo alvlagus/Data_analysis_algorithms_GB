{
 "cells": [
  {
   "cell_type": "markdown",
   "id": "25b1f58c",
   "metadata": {},
   "source": [
    "<h1 align='center'>Алгоритмы анализа данных</h1>"
   ]
  },
  {
   "cell_type": "markdown",
   "id": "80b4ee62",
   "metadata": {},
   "source": [
    "<h1 align='center'>Домашнее задание № 1</h1>"
   ]
  },
  {
   "cell_type": "markdown",
   "id": "159b2a80-62e9-471c-be73-0e4760ec1dd2",
   "metadata": {},
   "source": [
    "<h2 align='left'>Алгоритм линейной регрессии. Градиентный спуск</h2>"
   ]
  },
  {
   "cell_type": "code",
   "execution_count": 68,
   "id": "3f5afd23-12eb-45b3-8ff6-3af48c861406",
   "metadata": {},
   "outputs": [],
   "source": [
    "import numpy as np"
   ]
  },
  {
   "cell_type": "markdown",
   "id": "c66eaa1e-e108-4e6f-a0be-35ceeaa5f0bd",
   "metadata": {
    "tags": []
   },
   "source": [
    "# <p style=\"background-color:lightgreen;font-family:newtimeroman;color:#662e2e;font-size:130%;text-align:center;border-radius:30px 30px;\">Задача 1</p>\n",
    "\n",
    "__1.__ Подберите скорость обучения (eta) и количество итераций"
   ]
  },
  {
   "cell_type": "code",
   "execution_count": 69,
   "id": "f5350a4e-ef99-4253-910e-5633e106e951",
   "metadata": {},
   "outputs": [],
   "source": [
    "X = np.array([[ 1,  1],\n",
    "              [ 1,  1],\n",
    "              [ 1,  2],\n",
    "              [ 1,  5],\n",
    "              [ 1,  3],\n",
    "              [ 1,  0],\n",
    "              [ 1,  5],\n",
    "              [ 1, 10],\n",
    "              [ 1,  1],\n",
    "              [ 1,  2]])"
   ]
  },
  {
   "cell_type": "code",
   "execution_count": 70,
   "id": "26716637-6292-4499-b779-79555426f4c3",
   "metadata": {},
   "outputs": [],
   "source": [
    "y = [45, 55, 50, 55, 60, 35, 75, 80, 50, 60]"
   ]
  },
  {
   "cell_type": "code",
   "execution_count": 71,
   "id": "b41c9d6c-fb96-40d7-bdc3-b3f0c04917a4",
   "metadata": {},
   "outputs": [],
   "source": [
    "# реализуем функцию, определяющую среднеквадратичную ошибку\n",
    "def calc_mse(y, y_pred):\n",
    "    err = np.mean((y - y_pred) ** 2)\n",
    "    return err\n"
   ]
  },
  {
   "cell_type": "code",
   "execution_count": 72,
   "id": "c6394886-a6f2-4e91-91a3-318f39a74b39",
   "metadata": {
    "tags": []
   },
   "outputs": [
    {
     "name": "stdout",
     "output_type": "stream",
     "text": [
      "Number of objects = 10         \n",
      "Learning rate = 0.01         \n",
      "Initial weights = [1.  0.5] \n",
      "\n",
      "Iteration #0: W_new = [2.08 4.27], MSE = 3047.75\n",
      "Iteration #10: W_new = [ 6.67106886 10.61676385], MSE = 749.71\n",
      "Iteration #20: W_new = [ 9.49320908 10.25731657], MSE = 648.91\n",
      "Iteration #30: W_new = [11.85740092  9.83349244], MSE = 570.46\n",
      "Iteration #40: W_new = [13.86876921  9.46898661], MSE = 508.03\n",
      "Iteration #50: W_new = [15.59085668  9.15672679], MSE = 457.73\n",
      "Iteration #60: W_new = [17.07337653  8.88789585], MSE = 416.77\n",
      "Iteration #70: W_new = [18.35601294  8.65530964], MSE = 383.06\n",
      "Iteration #80: W_new = [19.47073522  8.45317196], MSE = 355.08\n",
      "Iteration #90: W_new = [20.44350656  8.27677488], MSE = 331.65\n"
     ]
    }
   ],
   "source": [
    "n = X.shape[0]\n",
    "\n",
    "# Исходное\n",
    "eta = 1e-2 #  скорость обучения \n",
    "n_iter = 100 #  количество итераций\n",
    "\n",
    "# # Новые значения скорости и количества итераций\n",
    "# eta = 0.1  \n",
    "# n_iter = 600  \n",
    "\n",
    "W = np.array([1, 0.5])\n",
    "print(f'Number of objects = {n} \\\n",
    "        \\nLearning rate = {eta} \\\n",
    "        \\nInitial weights = {W} \\n')\n",
    "\n",
    "for i in range(n_iter):\n",
    "    y_pred = np.dot(X, W)\n",
    "    err = calc_mse(y, y_pred)\n",
    "    for k in range(W.shape[0]):\n",
    "        W[k] -= eta * (1/n * 2 * X[:, k] @ (y_pred - y))\n",
    "    if i % 10 == 0:\n",
    "        eta /= 1.1\n",
    "        print(f'Iteration #{i}: W_new = {W}, MSE = {round(err, 2)}')"
   ]
  },
  {
   "cell_type": "markdown",
   "id": "2ea0d98e",
   "metadata": {},
   "source": [
    "**Решение:**  "
   ]
  },
  {
   "cell_type": "code",
   "execution_count": 67,
   "id": "d7ade03d-242e-42f6-8541-4d9a8db3099a",
   "metadata": {
    "jp-MarkdownHeadingCollapsed": true,
    "tags": []
   },
   "outputs": [
    {
     "name": "stdout",
     "output_type": "stream",
     "text": [
      "Number of objects = 10         \n",
      "Learning rate = 0.1         \n",
      "Initial weights = [1.  0.5] \n",
      "\n",
      "Iteration #0: W_new = [11.8 38.2], MSE = 3047.75\n",
      "Iteration #10: W_new = [12651.73553914 69617.0969639 ], MSE = 18310954068.05\n",
      "Iteration #20: W_new = [ 7732434.81888021 42641607.37852186], MSE = 9128819654907568.0\n",
      "Iteration #30: W_new = [1.06344502e+09 5.86454589e+09], MSE = 2.327920364266843e+20\n",
      "Iteration #40: W_new = [3.00127077e+10 1.65510116e+11], MSE = 2.545133529815933e+23\n",
      "Iteration #50: W_new = [1.55345341e+11 8.56677968e+11], MSE = 9.572295620500074e+24\n",
      "Iteration #60: W_new = [1.27742291e+11 7.04456313e+11], MSE = 9.351480126475957e+24\n",
      "Iteration #70: W_new = [1.38141953e+10 7.61806995e+10], MSE = 1.640858952828383e+23\n",
      "Iteration #80: W_new = [1.51674189e+08 8.36432543e+08], MSE = 3.125533537874439e+19\n",
      "Iteration #90: W_new = [116395.49988139 641638.79864291], MSE = 31317286806394.04\n",
      "Iteration #100: W_new = [48.41966454 22.99883908], MSE = 53518.86\n",
      "Iteration #110: W_new = [44.9771605   3.82798314], MSE = 43.97\n",
      "Iteration #120: W_new = [44.99895429  3.82402303], MSE = 43.97\n",
      "Iteration #130: W_new = [45.01387996  3.82131649], MSE = 43.97\n",
      "Iteration #140: W_new = [45.024372    3.81941392], MSE = 43.97\n",
      "Iteration #150: W_new = [45.03192427  3.81804444], MSE = 43.97\n",
      "Iteration #160: W_new = [45.03747853  3.81703726], MSE = 43.97\n",
      "Iteration #170: W_new = [45.04164375  3.81628196], MSE = 43.97\n",
      "Iteration #180: W_new = [45.04482301  3.81570545], MSE = 43.97\n",
      "Iteration #190: W_new = [45.04728894  3.81525829], MSE = 43.97\n",
      "Iteration #200: W_new = [45.04922963  3.81490638], MSE = 43.97\n",
      "Iteration #210: W_new = [45.05077727  3.81462574], MSE = 43.97\n",
      "Iteration #220: W_new = [45.05202635  3.81439924], MSE = 43.97\n",
      "Iteration #230: W_new = [45.0530455   3.81421443], MSE = 43.97\n",
      "Iteration #240: W_new = [45.05388531  3.81406214], MSE = 43.97\n",
      "Iteration #250: W_new = [45.05458358  3.81393552], MSE = 43.97\n",
      "Iteration #260: W_new = [45.05516891  3.81382938], MSE = 43.97\n",
      "Iteration #270: W_new = [45.05566322  3.81373974], MSE = 43.97\n",
      "Iteration #280: W_new = [45.05608349  3.81366354], MSE = 43.97\n",
      "Iteration #290: W_new = [45.05644298  3.81359835], MSE = 43.97\n",
      "Iteration #300: W_new = [45.05675221  3.81354227], MSE = 43.97\n",
      "Iteration #310: W_new = [45.05701954  3.8134938 ], MSE = 43.97\n",
      "Iteration #320: W_new = [45.05725172  3.8134517 ], MSE = 43.97\n",
      "Iteration #330: W_new = [45.0574542   3.81341498], MSE = 43.97\n",
      "Iteration #340: W_new = [45.05763146  3.81338284], MSE = 43.97\n",
      "Iteration #350: W_new = [45.05778717  3.8133546 ], MSE = 43.97\n",
      "Iteration #360: W_new = [45.05792437  3.81332972], MSE = 43.97\n",
      "Iteration #370: W_new = [45.05804562  3.81330773], MSE = 43.97\n",
      "Iteration #380: W_new = [45.05815304  3.81328825], MSE = 43.97\n",
      "Iteration #390: W_new = [45.05824844  3.81327095], MSE = 43.97\n",
      "Iteration #400: W_new = [45.05833334  3.81325556], MSE = 43.97\n",
      "Iteration #410: W_new = [45.05840904  3.81324183], MSE = 43.97\n",
      "Iteration #420: W_new = [45.05847666  3.81322957], MSE = 43.97\n",
      "Iteration #430: W_new = [45.05853716  3.8132186 ], MSE = 43.97\n",
      "Iteration #440: W_new = [45.05859136  3.81320877], MSE = 43.97\n",
      "Iteration #450: W_new = [45.05863999  3.81319995], MSE = 43.97\n",
      "Iteration #460: W_new = [45.05868367  3.81319203], MSE = 43.97\n",
      "Iteration #470: W_new = [45.05872295  3.81318491], MSE = 43.97\n",
      "Iteration #480: W_new = [45.05875831  3.8131785 ], MSE = 43.97\n",
      "Iteration #490: W_new = [45.05879016  3.81317272], MSE = 43.97\n",
      "Iteration #500: W_new = [45.05881888  3.81316751], MSE = 43.97\n",
      "Iteration #510: W_new = [45.0588448   3.81316281], MSE = 43.97\n",
      "Iteration #520: W_new = [45.0588682   3.81315857], MSE = 43.97\n",
      "Iteration #530: W_new = [45.05888934  3.81315474], MSE = 43.97\n",
      "Iteration #540: W_new = [45.05890845  3.81315127], MSE = 43.97\n",
      "Iteration #550: W_new = [45.05892574  3.81314814], MSE = 43.97\n",
      "Iteration #560: W_new = [45.05894138  3.8131453 ], MSE = 43.97\n",
      "Iteration #570: W_new = [45.05895555  3.81314273], MSE = 43.97\n",
      "Iteration #580: W_new = [45.05896837  3.81314041], MSE = 43.97\n",
      "Iteration #590: W_new = [45.05897999  3.8131383 ], MSE = 43.97\n"
     ]
    }
   ],
   "source": [
    "# Ручной метод решения\n",
    "n = X.shape[0]\n",
    "\n",
    "# Исходное\n",
    "# eta = 1e-2 #  скорость обучения \n",
    "# n_iter = 100 #  количество итераций\n",
    "\n",
    "# Новые значения скорости и количества итераций. Определены подбором\n",
    "eta = 0.1  \n",
    "n_iter = 600  \n",
    "\n",
    "W = np.array([1, 0.5])\n",
    "print(f'Number of objects = {n} \\\n",
    "        \\nLearning rate = {eta} \\\n",
    "        \\nInitial weights = {W} \\n')\n",
    "\n",
    "for i in range(n_iter):\n",
    "    y_pred = np.dot(X, W)\n",
    "    err = calc_mse(y, y_pred)\n",
    "    for k in range(W.shape[0]):\n",
    "        W[k] -= eta * (1/n * 2 * X[:, k] @ (y_pred - y))\n",
    "    if i % 10 == 0:\n",
    "        eta /= 1.1\n",
    "        print(f'Iteration #{i}: W_new = {W}, MSE = {round(err, 2)}')"
   ]
  },
  {
   "cell_type": "markdown",
   "id": "f09b7e7a-ce11-46f2-8f44-dad46d4c3d13",
   "metadata": {},
   "source": [
    "Второй вариант, через формулу расчёта градиентного спуска и подбора на её основе минимальной ошибки"
   ]
  },
  {
   "cell_type": "code",
   "execution_count": 7,
   "id": "7b602f99-58d8-469a-adf6-9d74b0fbb9f4",
   "metadata": {},
   "outputs": [],
   "source": [
    "def gradient_descent(eta, iterations, W, X=X, y=y):\n",
    "    n = X.shape[0]\n",
    "    err = np.inf\n",
    "    for i in range(iterations):\n",
    "        y_pred = np.dot(X, W)\n",
    "        err_new = calc_mse(y, y_pred)\n",
    "        if err_new < err:\n",
    "            err = err_new\n",
    "            for k in range(W.shape[0]):\n",
    "                 W[k] -= eta * (1/n * 2 * X[:, k] @ (y_pred - y))\n",
    "                    \n",
    "            if i % 10 == 0:\n",
    "                eta /= 1.1                         \n",
    "        else:\n",
    "            return i-1, W, err\n",
    "    return i, W, err"
   ]
  },
  {
   "cell_type": "code",
   "execution_count": 8,
   "id": "9af1e804-2698-4829-b47a-536ebe1d2d39",
   "metadata": {
    "tags": []
   },
   "outputs": [
    {
     "name": "stdout",
     "output_type": "stream",
     "text": [
      "Cкорость обучения = 0.1, количество итераций = 1000.0 Ошибка MSE: 3047.75\n",
      "Cкорость обучения = 0.1, количество итераций = 10000.0 Ошибка MSE: 3047.75\n",
      "Cкорость обучения = 0.1, количество итераций = 100000.0 Ошибка MSE: 3047.75\n",
      "Cкорость обучения = 0.1, количество итераций = 1000000.0 Ошибка MSE: 3047.75\n",
      "Cкорость обучения = 0.01, количество итераций = 1000.0 Ошибка MSE: 175.59845939295684\n",
      "Cкорость обучения = 0.01, количество итераций = 10000.0 Ошибка MSE: 175.58068979510716\n",
      "Cкорость обучения = 0.01, количество итераций = 100000.0 Ошибка MSE: 175.58068979510716\n",
      "Cкорость обучения = 0.01, количество итераций = 1000000.0 Ошибка MSE: 175.58068979510716\n",
      "Cкорость обучения = 0.001, количество итераций = 1000.0 Ошибка MSE: 739.2733444715413\n",
      "Cкорость обучения = 0.001, количество итераций = 10000.0 Ошибка MSE: 739.2630944355203\n",
      "Cкорость обучения = 0.001, количество итераций = 100000.0 Ошибка MSE: 739.2630944355203\n",
      "Cкорость обучения = 0.001, количество итераций = 1000000.0 Ошибка MSE: 739.2630944355203\n",
      "Cкорость обучения = 0.0001, количество итераций = 1000.0 Ошибка MSE: 1930.189156631941\n",
      "Cкорость обучения = 0.0001, количество итераций = 10000.0 Ошибка MSE: 1930.1326035493116\n",
      "Cкорость обучения = 0.0001, количество итераций = 100000.0 Ошибка MSE: 1930.1326035493116\n",
      "Cкорость обучения = 0.0001, количество итераций = 1000000.0 Ошибка MSE: 1930.1326035493116\n",
      "Минимальная ошибка 175.58068979510716 достигается при коэфициентах (0.01, 10000.0)\n"
     ]
    }
   ],
   "source": [
    "# подбор оптимальных параметров\n",
    "min_err = np.inf\n",
    "min_coef = ()\n",
    "\n",
    "for eta in [1e-1, 1e-2, 1e-3, 1e-4]:\n",
    "    for iters in [1e3, 1e4, 1e5, 1e6]:    \n",
    "        W = np.array([1, 0.5])\n",
    "        num, wi, err = gradient_descent(eta, int(iters), W)\n",
    "        print(f'Cкорость обучения = {eta}, количество итераций = {iters} Ошибка MSE: {err}')\n",
    "        if err < min_err:\n",
    "            min_err = err\n",
    "            min_coef = (eta, iters)\n",
    "\n",
    "print(f'Минимальная ошибка {min_err} достигается при коэфициентах {min_coef}')"
   ]
  },
  {
   "cell_type": "markdown",
   "id": "de4912a3-ae24-4874-a078-0b3fdc2ea43b",
   "metadata": {
    "tags": []
   },
   "source": [
    "# <p style=\"background-color:lightgreen;font-family:newtimeroman;color:#662e2e;font-size:130%;text-align:center;border-radius:30px 30px;\">Задача 2</p>\n",
    "\n",
    "2*. В этом коде мы избавляемся от итераций по весам, но тут есть ошибка, исправьте ее"
   ]
  },
  {
   "cell_type": "code",
   "execution_count": 9,
   "id": "a9d4f747-8c0e-4260-a343-4dc78104e89a",
   "metadata": {},
   "outputs": [
    {
     "name": "stdout",
     "output_type": "stream",
     "text": [
      "Number of objects = 10        \n",
      "Learning rate = 0.01        \n",
      "Initial weights = [1.  0.5] \n",
      "\n"
     ]
    },
    {
     "ename": "ValueError",
     "evalue": "shapes (10,2) and (10,) not aligned: 2 (dim 1) != 10 (dim 0)",
     "output_type": "error",
     "traceback": [
      "\u001b[0;31m---------------------------------------------------------------------------\u001b[0m",
      "\u001b[0;31mValueError\u001b[0m                                Traceback (most recent call last)",
      "Input \u001b[0;32mIn [9]\u001b[0m, in \u001b[0;36m<cell line: 11>\u001b[0;34m()\u001b[0m\n\u001b[1;32m     13\u001b[0m     err \u001b[38;5;241m=\u001b[39m calc_mse(y, y_pred)\n\u001b[1;32m     14\u001b[0m \u001b[38;5;66;03m#     for k in range(W.shape[0]):\u001b[39;00m\n\u001b[1;32m     15\u001b[0m \u001b[38;5;66;03m#         W[k] -= eta * (1/n * 2 * X[:, k] @ (y_pred - y))\u001b[39;00m\n\u001b[1;32m     16\u001b[0m     \u001b[38;5;66;03m# ИЗМЕНЕНИЯ\u001b[39;00m\n\u001b[0;32m---> 17\u001b[0m     W \u001b[38;5;241m-\u001b[39m\u001b[38;5;241m=\u001b[39m eta \u001b[38;5;241m*\u001b[39m (\u001b[38;5;241m1\u001b[39m\u001b[38;5;241m/\u001b[39mn \u001b[38;5;241m*\u001b[39m \u001b[38;5;241m2\u001b[39m \u001b[38;5;241m*\u001b[39m \u001b[43mnp\u001b[49m\u001b[38;5;241;43m.\u001b[39;49m\u001b[43mdot\u001b[49m\u001b[43m(\u001b[49m\u001b[43mX\u001b[49m\u001b[43m,\u001b[49m\u001b[43m \u001b[49m\u001b[43my_pred\u001b[49m\u001b[43m \u001b[49m\u001b[38;5;241;43m-\u001b[39;49m\u001b[43m \u001b[49m\u001b[43my\u001b[49m\u001b[43m)\u001b[49m)\n\u001b[1;32m     18\u001b[0m     \u001b[38;5;66;03m# ИЗМЕНЕНИЯ\u001b[39;00m\n\u001b[1;32m     19\u001b[0m     \u001b[38;5;66;03m#\u001b[39;00m\n\u001b[1;32m     20\u001b[0m     \u001b[38;5;28;01mif\u001b[39;00m i \u001b[38;5;241m%\u001b[39m \u001b[38;5;241m10\u001b[39m \u001b[38;5;241m==\u001b[39m \u001b[38;5;241m0\u001b[39m:\n",
      "File \u001b[0;32m<__array_function__ internals>:5\u001b[0m, in \u001b[0;36mdot\u001b[0;34m(*args, **kwargs)\u001b[0m\n",
      "\u001b[0;31mValueError\u001b[0m: shapes (10,2) and (10,) not aligned: 2 (dim 1) != 10 (dim 0)"
     ]
    }
   ],
   "source": [
    "n = X.shape[0]\n",
    "\n",
    "eta = 1e-2 \n",
    "n_iter = 100\n",
    "\n",
    "W = np.array([1, 0.5])\n",
    "print(f'Number of objects = {n} \\\n",
    "       \\nLearning rate = {eta} \\\n",
    "       \\nInitial weights = {W} \\n')\n",
    "\n",
    "for i in range(n_iter):\n",
    "    y_pred = np.dot(X, W)\n",
    "    err = calc_mse(y, y_pred)\n",
    "#     for k in range(W.shape[0]):\n",
    "#         W[k] -= eta * (1/n * 2 * X[:, k] @ (y_pred - y))\n",
    "    # ИЗМЕНЕНИЯ\n",
    "    W -= eta * (1/n * 2 * np.dot(X, y_pred - y))\n",
    "    # ИЗМЕНЕНИЯ\n",
    "    #\n",
    "    if i % 10 == 0:\n",
    "        print(f'Iteration #{i}: W_new = {W}, MSE = {round(err,2)}')"
   ]
  },
  {
   "cell_type": "markdown",
   "id": "bcf3755d-f827-484f-b455-79fbd204b912",
   "metadata": {},
   "source": [
    "**Решение:**  "
   ]
  },
  {
   "cell_type": "markdown",
   "id": "46086dca-b68d-4176-9145-6bf9b1d998e3",
   "metadata": {},
   "source": [
    "Используется скалярное переумножение двух массивов разного размера. Исправил его на матричное - варианты 1 и 2.\n",
    "Или можно указать какой столбец матрицы Х умножаем - вариант 3."
   ]
  },
  {
   "cell_type": "code",
   "execution_count": 11,
   "id": "de324b69-d367-454c-9c23-148fa0f0b5d2",
   "metadata": {},
   "outputs": [
    {
     "name": "stdout",
     "output_type": "stream",
     "text": [
      "Number of objects = 10        \n",
      "Learning rate = 0.01        \n",
      "Initial weights = [1.  0.5] \n",
      "\n",
      "Iteration #0: W_new = [4.77 4.27], MSE = 3047.75\n",
      "Iteration #10: W_new = [10.39080638  9.89080638], MSE = 610.5\n",
      "Iteration #20: W_new = [10.42479324  9.92479324], MSE = 608.57\n",
      "Iteration #30: W_new = [10.42499875  9.92499875], MSE = 608.56\n",
      "Iteration #40: W_new = [10.42499999  9.92499999], MSE = 608.56\n",
      "Iteration #50: W_new = [10.425  9.925], MSE = 608.56\n",
      "Iteration #60: W_new = [10.425  9.925], MSE = 608.56\n",
      "Iteration #70: W_new = [10.425  9.925], MSE = 608.56\n",
      "Iteration #80: W_new = [10.425  9.925], MSE = 608.56\n",
      "Iteration #90: W_new = [10.425  9.925], MSE = 608.56\n"
     ]
    }
   ],
   "source": [
    "# вариант 1\n",
    "\n",
    "n = X.shape[0]\n",
    "\n",
    "eta = 1e-2 \n",
    "n_iter = 100\n",
    "\n",
    "W = np.array([1, 0.5])\n",
    "print(f'Number of objects = {n} \\\n",
    "       \\nLearning rate = {eta} \\\n",
    "       \\nInitial weights = {W} \\n')\n",
    "\n",
    "for i in range(n_iter):\n",
    "    y_pred = np.dot(X, W)\n",
    "    err = calc_mse(y, y_pred)\n",
    "#     for k in range(W.shape[0]):\n",
    "#         W[k] -= eta * (1/n * 2 * X[:, k] @ (y_pred - y))\n",
    "    # ИЗМЕНЕНИЯ\n",
    "    # W -= eta * (1/n * 2 * np.dot(X, y_pred - y)) # вместо этой строчки строчка ниже\n",
    "    W -= eta * (1/n * 2 *  X[:, k] @ (y_pred - y))\n",
    "    # ИЗМЕНЕНИЯ\n",
    "    #\n",
    "    if i % 10 == 0:\n",
    "        print(f'Iteration #{i}: W_new = {W}, MSE = {round(err,2)}')"
   ]
  },
  {
   "cell_type": "code",
   "execution_count": 12,
   "id": "e04583f9-0798-442d-885d-16b29fab2a15",
   "metadata": {},
   "outputs": [
    {
     "name": "stdout",
     "output_type": "stream",
     "text": [
      "Number of objects = 10        \n",
      "Learning rate = 0.01        \n",
      "Initial weights = [1.  0.5] \n",
      "\n",
      "Iteration #0: W_new = [4.77 4.27], MSE = 3047.75\n",
      "Iteration #10: W_new = [10.39080638  9.89080638], MSE = 610.5\n",
      "Iteration #20: W_new = [10.42479324  9.92479324], MSE = 608.57\n",
      "Iteration #30: W_new = [10.42499875  9.92499875], MSE = 608.56\n",
      "Iteration #40: W_new = [10.42499999  9.92499999], MSE = 608.56\n",
      "Iteration #50: W_new = [10.425  9.925], MSE = 608.56\n",
      "Iteration #60: W_new = [10.425  9.925], MSE = 608.56\n",
      "Iteration #70: W_new = [10.425  9.925], MSE = 608.56\n",
      "Iteration #80: W_new = [10.425  9.925], MSE = 608.56\n",
      "Iteration #90: W_new = [10.425  9.925], MSE = 608.56\n"
     ]
    }
   ],
   "source": [
    "# вариант 2\n",
    "\n",
    "n = X.shape[0]\n",
    "\n",
    "eta = 1e-2 \n",
    "n_iter = 100\n",
    "\n",
    "W = np.array([1, 0.5])\n",
    "print(f'Number of objects = {n} \\\n",
    "       \\nLearning rate = {eta} \\\n",
    "       \\nInitial weights = {W} \\n')\n",
    "\n",
    "for i in range(n_iter):\n",
    "    y_pred = np.dot(X, W)\n",
    "    err = calc_mse(y, y_pred)\n",
    "#     for k in range(W.shape[0]):\n",
    "#         W[k] -= eta * (1/n * 2 * X[:, k] @ (y_pred - y))\n",
    "    # ИЗМЕНЕНИЯ\n",
    "    # W -= eta * (1/n * 2 * np.dot(X, y_pred - y)) # вместо этой строчки строчка ниже\n",
    "    W -= eta * (1/n * 2 * np.matmul(X[:, k], y_pred - y, out=None))\n",
    "    # ИЗМЕНЕНИЯ\n",
    "    #\n",
    "    if i % 10 == 0:\n",
    "        print(f'Iteration #{i}: W_new = {W}, MSE = {round(err,2)}')"
   ]
  },
  {
   "cell_type": "code",
   "execution_count": 13,
   "id": "2ae87a73-3a4d-4b19-8b3c-b4320e126661",
   "metadata": {},
   "outputs": [
    {
     "name": "stdout",
     "output_type": "stream",
     "text": [
      "Number of objects = 10        \n",
      "Learning rate = 0.01        \n",
      "Initial weights = [1.  0.5] \n",
      "\n",
      "Iteration #0: W_new = [4.77 4.27], MSE = 3047.75\n",
      "Iteration #10: W_new = [10.39080638  9.89080638], MSE = 610.5\n",
      "Iteration #20: W_new = [10.42479324  9.92479324], MSE = 608.57\n",
      "Iteration #30: W_new = [10.42499875  9.92499875], MSE = 608.56\n",
      "Iteration #40: W_new = [10.42499999  9.92499999], MSE = 608.56\n",
      "Iteration #50: W_new = [10.425  9.925], MSE = 608.56\n",
      "Iteration #60: W_new = [10.425  9.925], MSE = 608.56\n",
      "Iteration #70: W_new = [10.425  9.925], MSE = 608.56\n",
      "Iteration #80: W_new = [10.425  9.925], MSE = 608.56\n",
      "Iteration #90: W_new = [10.425  9.925], MSE = 608.56\n"
     ]
    }
   ],
   "source": [
    "# вариант 3\n",
    "\n",
    "n = X.shape[0]\n",
    "\n",
    "eta = 1e-2 \n",
    "n_iter = 100\n",
    "\n",
    "W = np.array([1, 0.5])\n",
    "print(f'Number of objects = {n} \\\n",
    "       \\nLearning rate = {eta} \\\n",
    "       \\nInitial weights = {W} \\n')\n",
    "\n",
    "for i in range(n_iter):\n",
    "    y_pred = np.dot(X, W)\n",
    "    err = calc_mse(y, y_pred)\n",
    "#     for k in range(W.shape[0]):\n",
    "#         W[k] -= eta * (1/n * 2 * X[:, k] @ (y_pred - y))\n",
    "    # ИЗМЕНЕНИЯ\n",
    "    # W -= eta * (1/n * 2 * np.dot(X, y_pred - y)) # вместо этой строчки строчка ниже\n",
    "    W -= eta * (1/n * 2 * np.dot(X[:, k], y_pred - y))\n",
    "    # ИЗМЕНЕНИЯ\n",
    "    #\n",
    "    if i % 10 == 0:\n",
    "        print(f'Iteration #{i}: W_new = {W}, MSE = {round(err,2)}')"
   ]
  },
  {
   "cell_type": "markdown",
   "id": "2f5b0a08-2d16-409e-961f-d160267b35f6",
   "metadata": {},
   "source": [
    "# <p style=\"background-color:lightgreen;font-family:newtimeroman;color:#662e2e;font-size:130%;text-align:center;border-radius:30px 30px;\">Задача 3</p>\n",
    "\n",
    "3*. Вместо того, чтобы задавать количество итераций, задайте другое условие останова алгоритма - когда веса перестают изменяться меньше определенного порога $\\epsilon$."
   ]
  },
  {
   "cell_type": "code",
   "execution_count": 23,
   "id": "4901b646-c014-43bd-af85-3766c5fd639e",
   "metadata": {},
   "outputs": [
    {
     "name": "stdout",
     "output_type": "stream",
     "text": [
      "Number of objects = 10        \n",
      "Learning rate = 0.01        \n",
      "Initial weights = [1.  0.5] \n",
      "\n",
      "Iteration #0: W_new = [2.08 4.27], MSE = 3047.75\n",
      "Iteration #10: W_new = [ 6.67106886 10.61676385], MSE = 749.71\n",
      "Iteration #20: W_new = [ 9.49320908 10.25731657], MSE = 648.91\n",
      "Iteration #30: W_new = [11.85740092  9.83349244], MSE = 570.46\n",
      "Iteration #40: W_new = [13.86876921  9.46898661], MSE = 508.03\n",
      "Iteration #50: W_new = [15.59085668  9.15672679], MSE = 457.73\n",
      "Iteration #60: W_new = [17.07337653  8.88789585], MSE = 416.77\n",
      "Iteration #70: W_new = [18.35601294  8.65530964], MSE = 383.06\n",
      "Iteration #80: W_new = [19.47073522  8.45317196], MSE = 355.08\n",
      "Iteration #90: W_new = [20.44350656  8.27677488], MSE = 331.65\n"
     ]
    }
   ],
   "source": [
    "# исходное\n",
    "\n",
    "n = X.shape[0]\n",
    "\n",
    "eta = 1e-2 \n",
    "n_iter = 100\n",
    "\n",
    "W = np.array([1, 0.5])\n",
    "print(f'Number of objects = {n} \\\n",
    "       \\nLearning rate = {eta} \\\n",
    "       \\nInitial weights = {W} \\n')\n",
    "\n",
    "for i in range(n_iter):\n",
    "    y_pred = np.dot(X, W)\n",
    "    err = calc_mse(y, y_pred)\n",
    "    for k in range(W.shape[0]):\n",
    "        W[k] -= eta * (1/n * 2 * X[:, k] @ (y_pred - y))\n",
    "    if i % 10 == 0:\n",
    "        eta /= 1.1\n",
    "        print(f'Iteration #{i}: W_new = {W}, MSE = {round(err, 2)}')"
   ]
  },
  {
   "cell_type": "markdown",
   "id": "271efec1-8914-4435-9f68-3cc4bb676248",
   "metadata": {},
   "source": [
    "**Решение:**  "
   ]
  },
  {
   "cell_type": "code",
   "execution_count": 66,
   "id": "1b46c631-417c-4c7f-aea7-103d7410951f",
   "metadata": {},
   "outputs": [
    {
     "name": "stdout",
     "output_type": "stream",
     "text": [
      "Number of objects = 10        \n",
      "Learning rate = 0.01        \n",
      "Initial weights = [1.  0.5] \n",
      "\n",
      "Iteration #962: W_new = [28.34453922  6.84404443], MSE = 175.61, weight_dist = 9.348401521821547e-06\n"
     ]
    }
   ],
   "source": [
    "# критерий сходимости (разница весов, при которой алгоритм останавливается)\n",
    "epsilon = 1e-8\n",
    "\n",
    "# зададим начальную разницу весов большим числом\n",
    "weight_dist = np.inf\n",
    "\n",
    "n = X.shape[0]\n",
    "eta = 1e-2 \n",
    "# n_iter = 10\n",
    "epsilon = 1e-5\n",
    "i = 0\n",
    "\n",
    "W = np.array([1, 0.5])\n",
    "print(f'Number of objects = {n} \\\n",
    "       \\nLearning rate = {eta} \\\n",
    "       \\nInitial weights = {W} \\n')\n",
    "\n",
    "while weight_dist > epsilon:    \n",
    "    y_pred = np.dot(X, W)\n",
    "    err = calc_mse(y, y_pred)\n",
    "    for k in range(W.shape[0]):\n",
    "        W[k] -= eta * (1/n * 2 * X[:, k] @ (y_pred - y))\n",
    "        new_W = W - eta * W[k]\n",
    "    if i % 10 == 0:\n",
    "        eta /= 1.1\n",
    "    weight_dist = np.linalg.norm(new_W - W, ord=2)\n",
    "    i += 1\n",
    "print(f'Iteration #{i}: W_new = {W}, MSE = {round(err, 2)}, weight_dist = {weight_dist}')"
   ]
  },
  {
   "cell_type": "code",
   "execution_count": null,
   "id": "c0e7b249-8681-4785-b508-d3779e2705d2",
   "metadata": {},
   "outputs": [],
   "source": []
  }
 ],
 "metadata": {
  "kernelspec": {
   "display_name": "Python 3 (ipykernel)",
   "language": "python",
   "name": "python3"
  },
  "language_info": {
   "codemirror_mode": {
    "name": "ipython",
    "version": 3
   },
   "file_extension": ".py",
   "mimetype": "text/x-python",
   "name": "python",
   "nbconvert_exporter": "python",
   "pygments_lexer": "ipython3",
   "version": "3.9.12"
  }
 },
 "nbformat": 4,
 "nbformat_minor": 5
}
